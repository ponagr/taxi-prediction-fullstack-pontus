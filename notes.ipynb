{
 "cells": [
  {
   "cell_type": "markdown",
   "id": "303e8ce7",
   "metadata": {},
   "source": [
    "### data struktur:\n",
    "**setup.py**:\n",
    "- paketerar projektet\n",
    "\n",
    "**utils.helpers**:\n",
    "- read_api_endpoint:\n",
    "\t- tar emot en endpoint, gör en get request och returnerar response till dashboard.py\n",
    "**utils.constants**:\n",
    "- skapar path till csv filen, utgår ifrån setup.py: package_data(taxipred)\n",
    "\t- används i data_processing: TaxiData __init__ för att skapa en dataframe med pandas pd.read_csv\n",
    "\n",
    "**frontend.dashboard**:\n",
    "- anropar read_api_endpoint och skapar response som returneras i 'data'\n",
    "\t- omvandlar data, till en dataframe med hjälp av data.json() för att omvandla response till en lista med dictionaries(krävs för att kunna skapa en dataframe)\n",
    "- funktionen main visar dataframen i dashboarden med st.dataframe(df)\n",
    "\n",
    "**backend.api**:\n",
    "- skapar fastapi instans\n",
    "- skapar TaxiData instans från data_processing\n",
    "\n",
    "- @app.get(), gör att funktionen blir en get request, med endpoint /taxi/\n",
    "- read_taxi_data: returnerar taxi_data.to_json, en funktion för TaxiData objekt, som omvandlar objektets fält 'df' från dataframe till json/dictionary \n",
    "\n",
    "#### mål:\n",
    "- förutspå taxipriser baserat på användarförfrågan med hjälp av predictions från ml model som tränat på tidigare data:\n",
    "\t- destination och upphämtningsplats, tid, dag, tidpunkt, antal passagerare, avstånd, trafik, väder \n",
    "\n",
    "- backend med ml model, data, och hämtnings av data, pydantic model(klass) för validering, funktioner för att leverera kpis och annat\n",
    "\n",
    "- api för get och post requests som pratar med backend och frontend via endpoints\n",
    "\n",
    "- frontend för att visa data och ta input (streamlit dashboard) - kpis/metrics, plots\n",
    "\n",
    "\n",
    "#### TODO:\n",
    "- EDA för att förstå och rengöra data, kolla korrelation, välja features, testa modeller, exportera model med joblib\n",
    "\n",
    "- predicta med regression för att fylla nullvärden?, exportera rensad csv-fil från eda\n",
    "\n",
    "- ml model/EDA, encoda objekt-typer\n",
    "- fixa till nullvärden, sätt objekt till unknown och float/int till medelvärdet?\n",
    "\n",
    "##### lägg till mer om du vill/hinner:\n",
    "- api för trafik conditions, avstånd och tid från A->B \n",
    "- api för väder för weather condition"
   ]
  }
 ],
 "metadata": {
  "language_info": {
   "name": "python"
  }
 },
 "nbformat": 4,
 "nbformat_minor": 5
}
