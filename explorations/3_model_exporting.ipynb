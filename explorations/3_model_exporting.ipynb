{
 "cells": [
  {
   "cell_type": "markdown",
   "id": "cb8d5e43",
   "metadata": {},
   "source": [
    "# Export models"
   ]
  },
  {
   "cell_type": "markdown",
   "id": "cc82c7ce",
   "metadata": {},
   "source": [
    "### ElasticNetCV model"
   ]
  },
  {
   "cell_type": "code",
   "execution_count": 2,
   "id": "d70e5eab",
   "metadata": {},
   "outputs": [],
   "source": [
    "import pandas as pd\n",
    "import joblib\n",
    "\n",
    "df = pd.read_csv(\"../src/taxipred/data/cleaned_taxi_data.csv\", index_col=0)"
   ]
  },
  {
   "cell_type": "code",
   "execution_count": 3,
   "id": "86f5c617",
   "metadata": {},
   "outputs": [],
   "source": [
    "X, y = df.drop(columns=\"Trip_Price\"), df[\"Trip_Price\"]"
   ]
  },
  {
   "cell_type": "code",
   "execution_count": 4,
   "id": "0959f4d5",
   "metadata": {},
   "outputs": [
    {
     "data": {
      "text/plain": [
       "['../src/taxipred/models/elastic_regressor.joblib']"
      ]
     },
     "execution_count": 4,
     "metadata": {},
     "output_type": "execute_result"
    }
   ],
   "source": [
    "from sklearn.preprocessing import MinMaxScaler\n",
    "from sklearn.linear_model import ElasticNetCV\n",
    "from sklearn.pipeline import make_pipeline\n",
    "\n",
    "elastic_model = make_pipeline(MinMaxScaler(), ElasticNetCV())\n",
    "    \n",
    "elastic_model.fit(X,y)\n",
    "\n",
    "joblib.dump(elastic_model, \"../src/taxipred/models/elastic_regressor.joblib\")"
   ]
  },
  {
   "cell_type": "markdown",
   "id": "7db4a40c",
   "metadata": {},
   "source": [
    "### RandomForest model"
   ]
  },
  {
   "cell_type": "code",
   "execution_count": 5,
   "id": "a22f8268",
   "metadata": {},
   "outputs": [
    {
     "data": {
      "text/plain": [
       "['../src/taxipred/models/taxi_regressor.joblib']"
      ]
     },
     "execution_count": 5,
     "metadata": {},
     "output_type": "execute_result"
    }
   ],
   "source": [
    "from sklearn.ensemble import RandomForestRegressor\n",
    "\n",
    "rf_model = RandomForestRegressor(min_samples_leaf=2, random_state=42)\n",
    "\n",
    "rf_model.fit(X,y)\n",
    "\n",
    "joblib.dump(rf_model, \"../src/taxipred/models/taxi_regressor.joblib\")"
   ]
  },
  {
   "cell_type": "markdown",
   "id": "14562f69",
   "metadata": {},
   "source": [
    "### MultiOutput RandomForest Regressor model"
   ]
  },
  {
   "cell_type": "code",
   "execution_count": 6,
   "id": "d84c2e69",
   "metadata": {},
   "outputs": [],
   "source": [
    "df = pd.read_csv(\"../src/taxipred/data/taxi_trip_pricing.csv\").dropna()"
   ]
  },
  {
   "cell_type": "code",
   "execution_count": 7,
   "id": "425fc7d9",
   "metadata": {},
   "outputs": [],
   "source": [
    "X, y = df[[\"Time_of_Day\", \"Day_of_Week\", \"Traffic_Conditions\", \"Weather\"]], df[[\"Base_Fare\", \"Per_Km_Rate\", \"Per_Minute_Rate\"]]\n",
    "X = pd.get_dummies(X, drop_first=True)*1"
   ]
  },
  {
   "cell_type": "code",
   "execution_count": 8,
   "id": "52ecadc4",
   "metadata": {},
   "outputs": [
    {
     "data": {
      "text/plain": [
       "['../src/taxipred/models/feature_price_multiregressor.joblib']"
      ]
     },
     "execution_count": 8,
     "metadata": {},
     "output_type": "execute_result"
    }
   ],
   "source": [
    "from sklearn.multioutput import MultiOutputRegressor\n",
    "\n",
    "multi_model = MultiOutputRegressor(RandomForestRegressor())\n",
    "\n",
    "multi_model.fit(X,y)\n",
    "\n",
    "joblib.dump(multi_model, \"../src/taxipred/models/feature_price_multiregressor.joblib\")"
   ]
  }
 ],
 "metadata": {
  "kernelspec": {
   "display_name": "taxi-prediction-fullstack-pontus",
   "language": "python",
   "name": "python3"
  },
  "language_info": {
   "codemirror_mode": {
    "name": "ipython",
    "version": 3
   },
   "file_extension": ".py",
   "mimetype": "text/x-python",
   "name": "python",
   "nbconvert_exporter": "python",
   "pygments_lexer": "ipython3",
   "version": "3.12.8"
  }
 },
 "nbformat": 4,
 "nbformat_minor": 5
}
