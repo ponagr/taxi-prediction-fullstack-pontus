{
 "cells": [
  {
   "cell_type": "markdown",
   "id": "5f92eb39",
   "metadata": {},
   "source": [
    "## testing and evaluation between different prediction models for choosing best option for model export"
   ]
  }
 ],
 "metadata": {
  "language_info": {
   "name": "python"
  }
 },
 "nbformat": 4,
 "nbformat_minor": 5
}
