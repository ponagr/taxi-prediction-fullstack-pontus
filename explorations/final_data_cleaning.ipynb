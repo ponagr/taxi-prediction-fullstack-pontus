{
 "cells": [
  {
   "cell_type": "markdown",
   "id": "71cf1563",
   "metadata": {},
   "source": [
    "# Cleaning data and exporting to csv"
   ]
  },
  {
   "cell_type": "code",
   "execution_count": 1,
   "id": "39cc9be7",
   "metadata": {},
   "outputs": [
    {
     "data": {
      "text/html": [
       "<div>\n",
       "<style scoped>\n",
       "    .dataframe tbody tr th:only-of-type {\n",
       "        vertical-align: middle;\n",
       "    }\n",
       "\n",
       "    .dataframe tbody tr th {\n",
       "        vertical-align: top;\n",
       "    }\n",
       "\n",
       "    .dataframe thead th {\n",
       "        text-align: right;\n",
       "    }\n",
       "</style>\n",
       "<table border=\"1\" class=\"dataframe\">\n",
       "  <thead>\n",
       "    <tr style=\"text-align: right;\">\n",
       "      <th></th>\n",
       "      <th>Trip_Distance_km</th>\n",
       "      <th>Time_of_Day</th>\n",
       "      <th>Day_of_Week</th>\n",
       "      <th>Passenger_Count</th>\n",
       "      <th>Traffic_Conditions</th>\n",
       "      <th>Weather</th>\n",
       "      <th>Base_Fare</th>\n",
       "      <th>Per_Km_Rate</th>\n",
       "      <th>Per_Minute_Rate</th>\n",
       "      <th>Trip_Duration_Minutes</th>\n",
       "      <th>Trip_Price</th>\n",
       "    </tr>\n",
       "  </thead>\n",
       "  <tbody>\n",
       "    <tr>\n",
       "      <th>0</th>\n",
       "      <td>19.35</td>\n",
       "      <td>Morning</td>\n",
       "      <td>Weekday</td>\n",
       "      <td>3.0</td>\n",
       "      <td>Low</td>\n",
       "      <td>Clear</td>\n",
       "      <td>3.56</td>\n",
       "      <td>0.80</td>\n",
       "      <td>0.32</td>\n",
       "      <td>53.82</td>\n",
       "      <td>36.2624</td>\n",
       "    </tr>\n",
       "    <tr>\n",
       "      <th>1</th>\n",
       "      <td>47.59</td>\n",
       "      <td>Afternoon</td>\n",
       "      <td>Weekday</td>\n",
       "      <td>1.0</td>\n",
       "      <td>High</td>\n",
       "      <td>Clear</td>\n",
       "      <td>NaN</td>\n",
       "      <td>0.62</td>\n",
       "      <td>0.43</td>\n",
       "      <td>40.57</td>\n",
       "      <td>NaN</td>\n",
       "    </tr>\n",
       "    <tr>\n",
       "      <th>2</th>\n",
       "      <td>36.87</td>\n",
       "      <td>Evening</td>\n",
       "      <td>Weekend</td>\n",
       "      <td>1.0</td>\n",
       "      <td>High</td>\n",
       "      <td>Clear</td>\n",
       "      <td>2.70</td>\n",
       "      <td>1.21</td>\n",
       "      <td>0.15</td>\n",
       "      <td>37.27</td>\n",
       "      <td>52.9032</td>\n",
       "    </tr>\n",
       "    <tr>\n",
       "      <th>3</th>\n",
       "      <td>30.33</td>\n",
       "      <td>Evening</td>\n",
       "      <td>Weekday</td>\n",
       "      <td>4.0</td>\n",
       "      <td>Low</td>\n",
       "      <td>NaN</td>\n",
       "      <td>3.48</td>\n",
       "      <td>0.51</td>\n",
       "      <td>0.15</td>\n",
       "      <td>116.81</td>\n",
       "      <td>36.4698</td>\n",
       "    </tr>\n",
       "    <tr>\n",
       "      <th>4</th>\n",
       "      <td>NaN</td>\n",
       "      <td>Evening</td>\n",
       "      <td>Weekday</td>\n",
       "      <td>3.0</td>\n",
       "      <td>High</td>\n",
       "      <td>Clear</td>\n",
       "      <td>2.93</td>\n",
       "      <td>0.63</td>\n",
       "      <td>0.32</td>\n",
       "      <td>22.64</td>\n",
       "      <td>15.6180</td>\n",
       "    </tr>\n",
       "  </tbody>\n",
       "</table>\n",
       "</div>"
      ],
      "text/plain": [
       "   Trip_Distance_km Time_of_Day Day_of_Week  Passenger_Count  \\\n",
       "0             19.35     Morning     Weekday              3.0   \n",
       "1             47.59   Afternoon     Weekday              1.0   \n",
       "2             36.87     Evening     Weekend              1.0   \n",
       "3             30.33     Evening     Weekday              4.0   \n",
       "4               NaN     Evening     Weekday              3.0   \n",
       "\n",
       "  Traffic_Conditions Weather  Base_Fare  Per_Km_Rate  Per_Minute_Rate  \\\n",
       "0                Low   Clear       3.56         0.80             0.32   \n",
       "1               High   Clear        NaN         0.62             0.43   \n",
       "2               High   Clear       2.70         1.21             0.15   \n",
       "3                Low     NaN       3.48         0.51             0.15   \n",
       "4               High   Clear       2.93         0.63             0.32   \n",
       "\n",
       "   Trip_Duration_Minutes  Trip_Price  \n",
       "0                  53.82     36.2624  \n",
       "1                  40.57         NaN  \n",
       "2                  37.27     52.9032  \n",
       "3                 116.81     36.4698  \n",
       "4                  22.64     15.6180  "
      ]
     },
     "execution_count": 1,
     "metadata": {},
     "output_type": "execute_result"
    }
   ],
   "source": [
    "import pandas as pd\n",
    "\n",
    "df = pd.read_csv(\"../src/taxipred/data/taxi_trip_pricing.csv\")\n",
    "\n",
    "df.head()"
   ]
  },
  {
   "cell_type": "code",
   "execution_count": 2,
   "id": "9d4d56b7",
   "metadata": {},
   "outputs": [
    {
     "data": {
      "text/html": [
       "<div>\n",
       "<style scoped>\n",
       "    .dataframe tbody tr th:only-of-type {\n",
       "        vertical-align: middle;\n",
       "    }\n",
       "\n",
       "    .dataframe tbody tr th {\n",
       "        vertical-align: top;\n",
       "    }\n",
       "\n",
       "    .dataframe thead th {\n",
       "        text-align: right;\n",
       "    }\n",
       "</style>\n",
       "<table border=\"1\" class=\"dataframe\">\n",
       "  <thead>\n",
       "    <tr style=\"text-align: right;\">\n",
       "      <th></th>\n",
       "      <th>count</th>\n",
       "      <th>mean</th>\n",
       "      <th>std</th>\n",
       "      <th>min</th>\n",
       "      <th>25%</th>\n",
       "      <th>50%</th>\n",
       "      <th>75%</th>\n",
       "      <th>max</th>\n",
       "    </tr>\n",
       "  </thead>\n",
       "  <tbody>\n",
       "    <tr>\n",
       "      <th>Trip_Distance_km</th>\n",
       "      <td>950.0</td>\n",
       "      <td>27.070547</td>\n",
       "      <td>19.905300</td>\n",
       "      <td>1.2300</td>\n",
       "      <td>12.63250</td>\n",
       "      <td>25.8300</td>\n",
       "      <td>38.40500</td>\n",
       "      <td>146.067047</td>\n",
       "    </tr>\n",
       "    <tr>\n",
       "      <th>Passenger_Count</th>\n",
       "      <td>950.0</td>\n",
       "      <td>2.476842</td>\n",
       "      <td>1.102249</td>\n",
       "      <td>1.0000</td>\n",
       "      <td>1.25000</td>\n",
       "      <td>2.0000</td>\n",
       "      <td>3.00000</td>\n",
       "      <td>4.000000</td>\n",
       "    </tr>\n",
       "    <tr>\n",
       "      <th>Base_Fare</th>\n",
       "      <td>950.0</td>\n",
       "      <td>3.502989</td>\n",
       "      <td>0.870162</td>\n",
       "      <td>2.0100</td>\n",
       "      <td>2.73000</td>\n",
       "      <td>3.5200</td>\n",
       "      <td>4.26000</td>\n",
       "      <td>5.000000</td>\n",
       "    </tr>\n",
       "    <tr>\n",
       "      <th>Per_Km_Rate</th>\n",
       "      <td>950.0</td>\n",
       "      <td>1.233316</td>\n",
       "      <td>0.429816</td>\n",
       "      <td>0.5000</td>\n",
       "      <td>0.86000</td>\n",
       "      <td>1.2200</td>\n",
       "      <td>1.61000</td>\n",
       "      <td>2.000000</td>\n",
       "    </tr>\n",
       "    <tr>\n",
       "      <th>Per_Minute_Rate</th>\n",
       "      <td>950.0</td>\n",
       "      <td>0.292916</td>\n",
       "      <td>0.115592</td>\n",
       "      <td>0.1000</td>\n",
       "      <td>0.19000</td>\n",
       "      <td>0.2900</td>\n",
       "      <td>0.39000</td>\n",
       "      <td>0.500000</td>\n",
       "    </tr>\n",
       "    <tr>\n",
       "      <th>Trip_Duration_Minutes</th>\n",
       "      <td>950.0</td>\n",
       "      <td>62.118116</td>\n",
       "      <td>32.154406</td>\n",
       "      <td>5.0100</td>\n",
       "      <td>35.88250</td>\n",
       "      <td>61.8600</td>\n",
       "      <td>89.05500</td>\n",
       "      <td>119.840000</td>\n",
       "    </tr>\n",
       "    <tr>\n",
       "      <th>Trip_Price</th>\n",
       "      <td>951.0</td>\n",
       "      <td>56.874773</td>\n",
       "      <td>40.469791</td>\n",
       "      <td>6.1269</td>\n",
       "      <td>33.74265</td>\n",
       "      <td>50.0745</td>\n",
       "      <td>69.09935</td>\n",
       "      <td>332.043689</td>\n",
       "    </tr>\n",
       "  </tbody>\n",
       "</table>\n",
       "</div>"
      ],
      "text/plain": [
       "                       count       mean        std     min       25%      50%  \\\n",
       "Trip_Distance_km       950.0  27.070547  19.905300  1.2300  12.63250  25.8300   \n",
       "Passenger_Count        950.0   2.476842   1.102249  1.0000   1.25000   2.0000   \n",
       "Base_Fare              950.0   3.502989   0.870162  2.0100   2.73000   3.5200   \n",
       "Per_Km_Rate            950.0   1.233316   0.429816  0.5000   0.86000   1.2200   \n",
       "Per_Minute_Rate        950.0   0.292916   0.115592  0.1000   0.19000   0.2900   \n",
       "Trip_Duration_Minutes  950.0  62.118116  32.154406  5.0100  35.88250  61.8600   \n",
       "Trip_Price             951.0  56.874773  40.469791  6.1269  33.74265  50.0745   \n",
       "\n",
       "                            75%         max  \n",
       "Trip_Distance_km       38.40500  146.067047  \n",
       "Passenger_Count         3.00000    4.000000  \n",
       "Base_Fare               4.26000    5.000000  \n",
       "Per_Km_Rate             1.61000    2.000000  \n",
       "Per_Minute_Rate         0.39000    0.500000  \n",
       "Trip_Duration_Minutes  89.05500  119.840000  \n",
       "Trip_Price             69.09935  332.043689  "
      ]
     },
     "execution_count": 2,
     "metadata": {},
     "output_type": "execute_result"
    }
   ],
   "source": [
    "df.describe().T"
   ]
  },
  {
   "cell_type": "code",
   "execution_count": 3,
   "id": "a69d0772",
   "metadata": {},
   "outputs": [
    {
     "name": "stdout",
     "output_type": "stream",
     "text": [
      "<class 'pandas.core.frame.DataFrame'>\n",
      "RangeIndex: 1000 entries, 0 to 999\n",
      "Data columns (total 11 columns):\n",
      " #   Column                 Non-Null Count  Dtype  \n",
      "---  ------                 --------------  -----  \n",
      " 0   Trip_Distance_km       950 non-null    float64\n",
      " 1   Time_of_Day            950 non-null    object \n",
      " 2   Day_of_Week            950 non-null    object \n",
      " 3   Passenger_Count        950 non-null    float64\n",
      " 4   Traffic_Conditions     950 non-null    object \n",
      " 5   Weather                950 non-null    object \n",
      " 6   Base_Fare              950 non-null    float64\n",
      " 7   Per_Km_Rate            950 non-null    float64\n",
      " 8   Per_Minute_Rate        950 non-null    float64\n",
      " 9   Trip_Duration_Minutes  950 non-null    float64\n",
      " 10  Trip_Price             951 non-null    float64\n",
      "dtypes: float64(7), object(4)\n",
      "memory usage: 86.1+ KB\n"
     ]
    }
   ],
   "source": [
    "df.info()"
   ]
  },
  {
   "cell_type": "markdown",
   "id": "c84ac429",
   "metadata": {},
   "source": [
    "## Fill missing values"
   ]
  },
  {
   "cell_type": "code",
   "execution_count": 4,
   "id": "eae8d4a4",
   "metadata": {},
   "outputs": [
    {
     "data": {
      "text/html": [
       "<div>\n",
       "<style scoped>\n",
       "    .dataframe tbody tr th:only-of-type {\n",
       "        vertical-align: middle;\n",
       "    }\n",
       "\n",
       "    .dataframe tbody tr th {\n",
       "        vertical-align: top;\n",
       "    }\n",
       "\n",
       "    .dataframe thead th {\n",
       "        text-align: right;\n",
       "    }\n",
       "</style>\n",
       "<table border=\"1\" class=\"dataframe\">\n",
       "  <thead>\n",
       "    <tr style=\"text-align: right;\">\n",
       "      <th></th>\n",
       "      <th>count</th>\n",
       "      <th>mean</th>\n",
       "      <th>std</th>\n",
       "      <th>min</th>\n",
       "      <th>25%</th>\n",
       "      <th>50%</th>\n",
       "      <th>75%</th>\n",
       "      <th>max</th>\n",
       "    </tr>\n",
       "  </thead>\n",
       "  <tbody>\n",
       "    <tr>\n",
       "      <th>Trip_Distance_km</th>\n",
       "      <td>50.0</td>\n",
       "      <td>-0.062027</td>\n",
       "      <td>-0.502639</td>\n",
       "      <td>0.0</td>\n",
       "      <td>0.4750</td>\n",
       "      <td>0.000000</td>\n",
       "      <td>-0.6225</td>\n",
       "      <td>0.0</td>\n",
       "    </tr>\n",
       "    <tr>\n",
       "      <th>Passenger_Count</th>\n",
       "      <td>50.0</td>\n",
       "      <td>-0.023842</td>\n",
       "      <td>-0.022918</td>\n",
       "      <td>0.0</td>\n",
       "      <td>0.7500</td>\n",
       "      <td>0.000000</td>\n",
       "      <td>0.0000</td>\n",
       "      <td>0.0</td>\n",
       "    </tr>\n",
       "    <tr>\n",
       "      <th>Base_Fare</th>\n",
       "      <td>50.0</td>\n",
       "      <td>0.000000</td>\n",
       "      <td>-0.022055</td>\n",
       "      <td>0.0</td>\n",
       "      <td>0.0400</td>\n",
       "      <td>-0.017011</td>\n",
       "      <td>-0.0575</td>\n",
       "      <td>0.0</td>\n",
       "    </tr>\n",
       "    <tr>\n",
       "      <th>Per_Km_Rate</th>\n",
       "      <td>50.0</td>\n",
       "      <td>-0.000666</td>\n",
       "      <td>-0.010884</td>\n",
       "      <td>0.0</td>\n",
       "      <td>0.0100</td>\n",
       "      <td>0.000000</td>\n",
       "      <td>-0.0300</td>\n",
       "      <td>0.0</td>\n",
       "    </tr>\n",
       "    <tr>\n",
       "      <th>Per_Minute_Rate</th>\n",
       "      <td>50.0</td>\n",
       "      <td>0.000000</td>\n",
       "      <td>-0.002930</td>\n",
       "      <td>0.0</td>\n",
       "      <td>0.0075</td>\n",
       "      <td>0.002916</td>\n",
       "      <td>-0.0075</td>\n",
       "      <td>0.0</td>\n",
       "    </tr>\n",
       "    <tr>\n",
       "      <th>Trip_Duration_Minutes</th>\n",
       "      <td>50.0</td>\n",
       "      <td>-0.012906</td>\n",
       "      <td>-0.814943</td>\n",
       "      <td>0.0</td>\n",
       "      <td>1.2250</td>\n",
       "      <td>0.000000</td>\n",
       "      <td>-1.2800</td>\n",
       "      <td>0.0</td>\n",
       "    </tr>\n",
       "    <tr>\n",
       "      <th>Trip_Price</th>\n",
       "      <td>0.0</td>\n",
       "      <td>0.000000</td>\n",
       "      <td>0.000000</td>\n",
       "      <td>0.0</td>\n",
       "      <td>0.0000</td>\n",
       "      <td>0.000000</td>\n",
       "      <td>0.0000</td>\n",
       "      <td>0.0</td>\n",
       "    </tr>\n",
       "  </tbody>\n",
       "</table>\n",
       "</div>"
      ],
      "text/plain": [
       "                       count      mean       std  min     25%       50%  \\\n",
       "Trip_Distance_km        50.0 -0.062027 -0.502639  0.0  0.4750  0.000000   \n",
       "Passenger_Count         50.0 -0.023842 -0.022918  0.0  0.7500  0.000000   \n",
       "Base_Fare               50.0  0.000000 -0.022055  0.0  0.0400 -0.017011   \n",
       "Per_Km_Rate             50.0 -0.000666 -0.010884  0.0  0.0100  0.000000   \n",
       "Per_Minute_Rate         50.0  0.000000 -0.002930  0.0  0.0075  0.002916   \n",
       "Trip_Duration_Minutes   50.0 -0.012906 -0.814943  0.0  1.2250  0.000000   \n",
       "Trip_Price               0.0  0.000000  0.000000  0.0  0.0000  0.000000   \n",
       "\n",
       "                          75%  max  \n",
       "Trip_Distance_km      -0.6225  0.0  \n",
       "Passenger_Count        0.0000  0.0  \n",
       "Base_Fare             -0.0575  0.0  \n",
       "Per_Km_Rate           -0.0300  0.0  \n",
       "Per_Minute_Rate       -0.0075  0.0  \n",
       "Trip_Duration_Minutes -1.2800  0.0  \n",
       "Trip_Price             0.0000  0.0  "
      ]
     },
     "execution_count": 4,
     "metadata": {},
     "output_type": "execute_result"
    }
   ],
   "source": [
    "df_clean = df.copy()\n",
    "\n",
    "# lägger till mean eller median för varje numerisk kolumn beroende på om det finns mycket outliers eller inte\n",
    "col_funcs = {\"Trip_Distance_km\": \"median\", \"Passenger_Count\": \"median\", \"Base_Fare\": \"mean\",\"Per_Km_Rate\": \"median\", \"Per_Minute_Rate\": \"mean\", \"Trip_Duration_Minutes\": \"median\"}\n",
    "\n",
    "# loopar igenom och ändrar nullvärden till mean eller median\n",
    "for col, func in col_funcs.items():\n",
    "    if func == \"median\":\n",
    "        df_clean[col] = df_clean[col].fillna(df_clean[col].median())\n",
    "    if func == \"mean\":\n",
    "        df_clean[col] = df_clean[col].fillna(df_clean[col].mean())\n",
    "\n",
    "# hämtar ut resterande kolumner som inte är numeriska\n",
    "object_cols = [\"Time_of_Day\", \"Day_of_Week\", \"Traffic_Conditions\", \"Weather\"]\n",
    "\n",
    "# loopar igenom dessa och hämtar ut det mest återkommande värdet för varje kolumn, och fyller i detta värde vid nullvärden\n",
    "for col in object_cols:\n",
    "    mode_value = df_clean[col].mode()[0]\n",
    "    df_clean[col] = df_clean[col].fillna(mode_value)\n",
    "\n",
    "(df_clean.describe().T - df.describe().T)"
   ]
  },
  {
   "cell_type": "markdown",
   "id": "bb16d9cd",
   "metadata": {},
   "source": [
    "## Split dataset into df without missing values and df with missing values for target-column"
   ]
  },
  {
   "cell_type": "code",
   "execution_count": 5,
   "id": "fa7649b1",
   "metadata": {},
   "outputs": [
    {
     "name": "stdout",
     "output_type": "stream",
     "text": [
      "<class 'pandas.core.frame.DataFrame'>\n",
      "Index: 951 entries, 0 to 999\n",
      "Data columns (total 11 columns):\n",
      " #   Column                 Non-Null Count  Dtype  \n",
      "---  ------                 --------------  -----  \n",
      " 0   Trip_Distance_km       951 non-null    float64\n",
      " 1   Time_of_Day            951 non-null    object \n",
      " 2   Day_of_Week            951 non-null    object \n",
      " 3   Passenger_Count        951 non-null    float64\n",
      " 4   Traffic_Conditions     951 non-null    object \n",
      " 5   Weather                951 non-null    object \n",
      " 6   Base_Fare              951 non-null    float64\n",
      " 7   Per_Km_Rate            951 non-null    float64\n",
      " 8   Per_Minute_Rate        951 non-null    float64\n",
      " 9   Trip_Duration_Minutes  951 non-null    float64\n",
      " 10  Trip_Price             951 non-null    float64\n",
      "dtypes: float64(7), object(4)\n",
      "memory usage: 89.2+ KB\n"
     ]
    }
   ],
   "source": [
    "# spara alla rader där Trip_Price har ett värde, fortsätt rengöra denna\n",
    "df_clean = df_clean[df_clean[\"Trip_Price\"].notna()]\n",
    "\n",
    "# spara för senare prediction vid user input efter modellen är färdig\n",
    "df_no_price = df_clean[df_clean[\"Trip_Price\"].isna()]\n",
    "\n",
    "# tog bort 49 rader\n",
    "df_clean.info()"
   ]
  },
  {
   "cell_type": "markdown",
   "id": "f4b1d006",
   "metadata": {},
   "source": [
    "## Check and compare the dataframes to see if everything looks good"
   ]
  },
  {
   "cell_type": "code",
   "execution_count": 6,
   "id": "f83b0630",
   "metadata": {},
   "outputs": [
    {
     "data": {
      "text/plain": [
       "(951, 0)"
      ]
     },
     "execution_count": 6,
     "metadata": {},
     "output_type": "execute_result"
    }
   ],
   "source": [
    "len(df_clean), len(df_no_price)"
   ]
  },
  {
   "cell_type": "code",
   "execution_count": 7,
   "id": "e650ea90",
   "metadata": {},
   "outputs": [
    {
     "name": "stdout",
     "output_type": "stream",
     "text": [
      "<class 'pandas.core.frame.DataFrame'>\n",
      "Index: 0 entries\n",
      "Data columns (total 11 columns):\n",
      " #   Column                 Non-Null Count  Dtype  \n",
      "---  ------                 --------------  -----  \n",
      " 0   Trip_Distance_km       0 non-null      float64\n",
      " 1   Time_of_Day            0 non-null      object \n",
      " 2   Day_of_Week            0 non-null      object \n",
      " 3   Passenger_Count        0 non-null      float64\n",
      " 4   Traffic_Conditions     0 non-null      object \n",
      " 5   Weather                0 non-null      object \n",
      " 6   Base_Fare              0 non-null      float64\n",
      " 7   Per_Km_Rate            0 non-null      float64\n",
      " 8   Per_Minute_Rate        0 non-null      float64\n",
      " 9   Trip_Duration_Minutes  0 non-null      float64\n",
      " 10  Trip_Price             0 non-null      float64\n",
      "dtypes: float64(7), object(4)\n",
      "memory usage: 0.0+ bytes\n"
     ]
    }
   ],
   "source": [
    "df_no_price.info()"
   ]
  },
  {
   "cell_type": "code",
   "execution_count": 8,
   "id": "09a9f8f5",
   "metadata": {},
   "outputs": [
    {
     "name": "stdout",
     "output_type": "stream",
     "text": [
      "<class 'pandas.core.frame.DataFrame'>\n",
      "Index: 951 entries, 0 to 999\n",
      "Data columns (total 11 columns):\n",
      " #   Column                 Non-Null Count  Dtype  \n",
      "---  ------                 --------------  -----  \n",
      " 0   Trip_Distance_km       951 non-null    float64\n",
      " 1   Time_of_Day            951 non-null    object \n",
      " 2   Day_of_Week            951 non-null    object \n",
      " 3   Passenger_Count        951 non-null    float64\n",
      " 4   Traffic_Conditions     951 non-null    object \n",
      " 5   Weather                951 non-null    object \n",
      " 6   Base_Fare              951 non-null    float64\n",
      " 7   Per_Km_Rate            951 non-null    float64\n",
      " 8   Per_Minute_Rate        951 non-null    float64\n",
      " 9   Trip_Duration_Minutes  951 non-null    float64\n",
      " 10  Trip_Price             951 non-null    float64\n",
      "dtypes: float64(7), object(4)\n",
      "memory usage: 89.2+ KB\n"
     ]
    }
   ],
   "source": [
    "df_clean.info()"
   ]
  },
  {
   "cell_type": "markdown",
   "id": "9d8f7b64",
   "metadata": {},
   "source": [
    "## Check outliers"
   ]
  },
  {
   "cell_type": "code",
   "execution_count": 9,
   "id": "70bdc502",
   "metadata": {},
   "outputs": [
    {
     "data": {
      "text/plain": [
       "<Axes: >"
      ]
     },
     "execution_count": 9,
     "metadata": {},
     "output_type": "execute_result"
    },
    {
     "data": {
      "image/png": "[encoded data removed]",
      "text/plain": [
       "<Figure size 800x400 with 1 Axes>"
      ]
     },
     "metadata": {},
     "output_type": "display_data"
    }
   ],
   "source": [
    "import seaborn as sns\n",
    "import matplotlib.pyplot as plt\n",
    "\n",
    "plt.subplots(1, figsize=(8,4), dpi=100)\n",
    "plt.xticks(rotation=20)\n",
    "sns.boxplot(df_clean)"
   ]
  },
  {
   "cell_type": "markdown",
   "id": "16e8226b",
   "metadata": {},
   "source": [
    "## Remove outliers"
   ]
  },
  {
   "cell_type": "code",
   "execution_count": 10,
   "id": "18fdd144",
   "metadata": {},
   "outputs": [
    {
     "data": {
      "image/png": "[encoded data removed]",
      "text/plain": [
       "<Figure size 800x400 with 1 Axes>"
      ]
     },
     "metadata": {},
     "output_type": "display_data"
    }
   ],
   "source": [
    "for col in [\"Trip_Price\", \"Trip_Distance_km\"]:\n",
    "\n",
    "    Q1 = df_clean[col].quantile(0.25)\n",
    "    Q3 = df_clean[col].quantile(0.75)\n",
    "    IQR = Q3 - Q1\n",
    "\n",
    "    lower_bound = Q1 - (1.5 * IQR)\n",
    "    upper_bound = Q3 + (1.5 * IQR)\n",
    "        \n",
    "    df_clean = df_clean[\n",
    "        (df_clean[col] >= lower_bound) &\n",
    "        (df_clean[col] <= upper_bound)\n",
    "    ]\n",
    "    \n",
    "plt.subplots(1, figsize=(8,4), dpi=100)\n",
    "plt.xticks(rotation=20)\n",
    "sns.boxplot(df_clean);"
   ]
  },
  {
   "cell_type": "code",
   "execution_count": 11,
   "id": "10dff8a0",
   "metadata": {},
   "outputs": [
    {
     "name": "stdout",
     "output_type": "stream",
     "text": [
      "<class 'pandas.core.frame.DataFrame'>\n",
      "Index: 925 entries, 0 to 999\n",
      "Data columns (total 11 columns):\n",
      " #   Column                 Non-Null Count  Dtype  \n",
      "---  ------                 --------------  -----  \n",
      " 0   Trip_Distance_km       925 non-null    float64\n",
      " 1   Time_of_Day            925 non-null    object \n",
      " 2   Day_of_Week            925 non-null    object \n",
      " 3   Passenger_Count        925 non-null    float64\n",
      " 4   Traffic_Conditions     925 non-null    object \n",
      " 5   Weather                925 non-null    object \n",
      " 6   Base_Fare              925 non-null    float64\n",
      " 7   Per_Km_Rate            925 non-null    float64\n",
      " 8   Per_Minute_Rate        925 non-null    float64\n",
      " 9   Trip_Duration_Minutes  925 non-null    float64\n",
      " 10  Trip_Price             925 non-null    float64\n",
      "dtypes: float64(7), object(4)\n",
      "memory usage: 86.7+ KB\n"
     ]
    }
   ],
   "source": [
    "df_clean.info()"
   ]
  },
  {
   "cell_type": "code",
   "execution_count": 12,
   "id": "8e2d8a87",
   "metadata": {},
   "outputs": [
    {
     "name": "stdout",
     "output_type": "stream",
     "text": [
      "<class 'pandas.core.frame.DataFrame'>\n",
      "Index: 925 entries, 0 to 999\n",
      "Data columns (total 7 columns):\n",
      " #   Column                 Non-Null Count  Dtype  \n",
      "---  ------                 --------------  -----  \n",
      " 0   Trip_Distance_km       925 non-null    float64\n",
      " 1   Passenger_Count        925 non-null    float64\n",
      " 2   Base_Fare              925 non-null    float64\n",
      " 3   Per_Km_Rate            925 non-null    float64\n",
      " 4   Per_Minute_Rate        925 non-null    float64\n",
      " 5   Trip_Duration_Minutes  925 non-null    float64\n",
      " 6   Trip_Price             925 non-null    float64\n",
      "dtypes: float64(7)\n",
      "memory usage: 57.8 KB\n"
     ]
    }
   ],
   "source": [
    "df = df_clean.drop(columns=[\"Time_of_Day\", \"Day_of_Week\", \"Traffic_Conditions\", \"Weather\"])\n",
    "\n",
    "df.info()"
   ]
  },
  {
   "cell_type": "code",
   "execution_count": 13,
   "id": "6d29250b",
   "metadata": {},
   "outputs": [
    {
     "data": {
      "text/html": [
       "<div>\n",
       "<style scoped>\n",
       "    .dataframe tbody tr th:only-of-type {\n",
       "        vertical-align: middle;\n",
       "    }\n",
       "\n",
       "    .dataframe tbody tr th {\n",
       "        vertical-align: top;\n",
       "    }\n",
       "\n",
       "    .dataframe thead th {\n",
       "        text-align: right;\n",
       "    }\n",
       "</style>\n",
       "<table border=\"1\" class=\"dataframe\">\n",
       "  <thead>\n",
       "    <tr style=\"text-align: right;\">\n",
       "      <th></th>\n",
       "      <th>count</th>\n",
       "      <th>mean</th>\n",
       "      <th>std</th>\n",
       "      <th>min</th>\n",
       "      <th>25%</th>\n",
       "      <th>50%</th>\n",
       "      <th>75%</th>\n",
       "      <th>max</th>\n",
       "    </tr>\n",
       "  </thead>\n",
       "  <tbody>\n",
       "    <tr>\n",
       "      <th>Trip_Distance_km</th>\n",
       "      <td>925.0</td>\n",
       "      <td>24.994422</td>\n",
       "      <td>13.948933</td>\n",
       "      <td>1.2300</td>\n",
       "      <td>12.860</td>\n",
       "      <td>25.830000</td>\n",
       "      <td>36.870</td>\n",
       "      <td>49.9900</td>\n",
       "    </tr>\n",
       "    <tr>\n",
       "      <th>Passenger_Count</th>\n",
       "      <td>925.0</td>\n",
       "      <td>2.462703</td>\n",
       "      <td>1.075083</td>\n",
       "      <td>1.0000</td>\n",
       "      <td>2.000</td>\n",
       "      <td>2.000000</td>\n",
       "      <td>3.000</td>\n",
       "      <td>4.0000</td>\n",
       "    </tr>\n",
       "    <tr>\n",
       "      <th>Base_Fare</th>\n",
       "      <td>925.0</td>\n",
       "      <td>3.494550</td>\n",
       "      <td>0.844576</td>\n",
       "      <td>2.0100</td>\n",
       "      <td>2.760</td>\n",
       "      <td>3.502989</td>\n",
       "      <td>4.170</td>\n",
       "      <td>5.0000</td>\n",
       "    </tr>\n",
       "    <tr>\n",
       "      <th>Per_Km_Rate</th>\n",
       "      <td>925.0</td>\n",
       "      <td>1.223470</td>\n",
       "      <td>0.417137</td>\n",
       "      <td>0.5000</td>\n",
       "      <td>0.870</td>\n",
       "      <td>1.220000</td>\n",
       "      <td>1.560</td>\n",
       "      <td>2.0000</td>\n",
       "    </tr>\n",
       "    <tr>\n",
       "      <th>Per_Minute_Rate</th>\n",
       "      <td>925.0</td>\n",
       "      <td>0.293767</td>\n",
       "      <td>0.112695</td>\n",
       "      <td>0.1000</td>\n",
       "      <td>0.200</td>\n",
       "      <td>0.292916</td>\n",
       "      <td>0.390</td>\n",
       "      <td>0.5000</td>\n",
       "    </tr>\n",
       "    <tr>\n",
       "      <th>Trip_Duration_Minutes</th>\n",
       "      <td>925.0</td>\n",
       "      <td>61.785038</td>\n",
       "      <td>31.609168</td>\n",
       "      <td>5.0100</td>\n",
       "      <td>36.560</td>\n",
       "      <td>61.860000</td>\n",
       "      <td>87.740</td>\n",
       "      <td>119.8400</td>\n",
       "    </tr>\n",
       "    <tr>\n",
       "      <th>Trip_Price</th>\n",
       "      <td>925.0</td>\n",
       "      <td>51.690386</td>\n",
       "      <td>23.376955</td>\n",
       "      <td>6.1269</td>\n",
       "      <td>33.344</td>\n",
       "      <td>48.449600</td>\n",
       "      <td>66.581</td>\n",
       "      <td>118.0321</td>\n",
       "    </tr>\n",
       "  </tbody>\n",
       "</table>\n",
       "</div>"
      ],
      "text/plain": [
       "                       count       mean        std     min     25%        50%  \\\n",
       "Trip_Distance_km       925.0  24.994422  13.948933  1.2300  12.860  25.830000   \n",
       "Passenger_Count        925.0   2.462703   1.075083  1.0000   2.000   2.000000   \n",
       "Base_Fare              925.0   3.494550   0.844576  2.0100   2.760   3.502989   \n",
       "Per_Km_Rate            925.0   1.223470   0.417137  0.5000   0.870   1.220000   \n",
       "Per_Minute_Rate        925.0   0.293767   0.112695  0.1000   0.200   0.292916   \n",
       "Trip_Duration_Minutes  925.0  61.785038  31.609168  5.0100  36.560  61.860000   \n",
       "Trip_Price             925.0  51.690386  23.376955  6.1269  33.344  48.449600   \n",
       "\n",
       "                          75%       max  \n",
       "Trip_Distance_km       36.870   49.9900  \n",
       "Passenger_Count         3.000    4.0000  \n",
       "Base_Fare               4.170    5.0000  \n",
       "Per_Km_Rate             1.560    2.0000  \n",
       "Per_Minute_Rate         0.390    0.5000  \n",
       "Trip_Duration_Minutes  87.740  119.8400  \n",
       "Trip_Price             66.581  118.0321  "
      ]
     },
     "execution_count": 13,
     "metadata": {},
     "output_type": "execute_result"
    }
   ],
   "source": [
    "df.describe().T"
   ]
  },
  {
   "cell_type": "code",
   "execution_count": 24,
   "id": "6adbbe7c",
   "metadata": {},
   "outputs": [
    {
     "data": {
      "text/plain": [
       "Trip_Duration_Minutes\n",
       "61.86     46\n",
       "83.98      2\n",
       "96.08      2\n",
       "30.47      2\n",
       "29.64      2\n",
       "          ..\n",
       "58.39      1\n",
       "61.96      1\n",
       "54.18      1\n",
       "114.94     1\n",
       "29.69      1\n",
       "Name: count, Length: 851, dtype: int64"
      ]
     },
     "execution_count": 24,
     "metadata": {},
     "output_type": "execute_result"
    }
   ],
   "source": [
    "df[\"Trip_Duration_Minutes\"].value_counts()"
   ]
  },
  {
   "cell_type": "markdown",
   "id": "f11871eb",
   "metadata": {},
   "source": [
    "## Export cleaned and missing target dataframes to csv"
   ]
  },
  {
   "cell_type": "code",
   "execution_count": 15,
   "id": "c13adbe4",
   "metadata": {},
   "outputs": [],
   "source": [
    "df_clean.to_csv(\"../src/taxipred/data/taxi_trip_pricing_cleaned.csv\")\n",
    "\n",
    "df_no_price.to_csv(\"../src/taxipred/data/missing_target_data.csv\")\n",
    "\n",
    "df.to_csv(\"../src/taxipred/data/taxi_trip_pricing_cleaned_no_categorical.csv\")"
   ]
  }
 ],
 "metadata": {
  "kernelspec": {
   "display_name": "taxi-prediction-fullstack-pontus",
   "language": "python",
   "name": "python3"
  },
  "language_info": {
   "codemirror_mode": {
    "name": "ipython",
    "version": 3
   },
   "file_extension": ".py",
   "mimetype": "text/x-python",
   "name": "python",
   "nbconvert_exporter": "python",
   "pygments_lexer": "ipython3",
   "version": "3.12.8"
  }
 },
 "nbformat": 4,
 "nbformat_minor": 5
}
