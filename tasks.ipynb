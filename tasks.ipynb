{
 "cells": [
  {
   "cell_type": "markdown",
   "id": "4c0c2935",
   "metadata": {},
   "source": [
    "## Uppgift 0 - Uppvärmning\n",
    "- Det här projektet ska göras ensamt men samarbeta gärna med flera personer. \n",
    "- Varje person skickar in egen githublänk till lärplattformen, men skriv vem/vilka ni jobbat tillsammans med. \n",
    "- Skapa ett githubrepo som heter taxi-prediction-fullstack-FÖRNAMN-, ersätt med ditt namn.\n",
    "- Kopiera in filstrukturen från lektion a2_packaging\n",
    "- Datan hittar du här.\n",
    "- Läs på om metadatan så du vet vad de olika kolumnerna betyder. \n",
    "- Du kommer ha nytta av detta när du ska göra EDA, servea datan via APIet och göra ML modell."
   ]
  },
  {
   "cell_type": "markdown",
   "id": "866204f0",
   "metadata": {},
   "source": [
    "## Uppgift 1 - EDA och data cleaning\n",
    "- Starta i en eller flera Jupyter notebooks och gör explorativa dataanalyser för att förstå datasetet och eventuellt rita en del grafer. \n",
    "- Du har en del nullvärden i datasetet, fundera på lämpliga sätt att städa datan.\n",
    "- Vissa värden kanske kan ersättas med 0? Andra värden kanske kan ersättas med något annat? En del rader kan man kasta helt.\n",
    "- Vill du ta enkla vägen så kan du kan kasta de flesta raderna med nulls.\n",
    "- Se dock till att spara de raderna där label saknas - dessa kan med fördel användas som user inputs för att få en prediction av resepriset.\n",
    "- Se också till att ta bort eventuella outliers, exempelvis i priset då outliers enkelt kan påverka modellers noggrannhet.\n",
    "- Ni kan exportera datan efter ni processat den så kan ni använda den rensade datan i applikationen istället för rådatan."
   ]
  },
  {
   "cell_type": "markdown",
   "id": "af45df2a",
   "metadata": {},
   "source": [
    "## Uppgift 2 - ML modell\n",
    "- Ta fram en ML modell för att prediktera taxipriser. \n",
    "- Gå igenom data science workflow, med att testa olika modeller och evaluera. \n",
    "- Välj därefter en modell och träna på all data. \n",
    "- Exportera därefter datan med hjälp av joblib."
   ]
  },
  {
   "cell_type": "markdown",
   "id": "f5bb53be",
   "metadata": {},
   "source": [
    "## Uppgift 3 - Backend och API-lager\n",
    "- Skapa en backend och ett API-lager i FastAPI som ska servea datan. \n",
    "- Det innebär att det ska finnas olika endpoints för att kunna läsa delar av datan. \n",
    "- Det ska också finnas möjlighet att göra prediktion genom att låta användaren mata in olika parametrar."
   ]
  },
  {
   "cell_type": "markdown",
   "id": "8ef221b3",
   "metadata": {},
   "source": [
    "## Uppgift 4 - Bygg en frontend\n",
    "- Bygg en snygg frontend och konsumera API:et."
   ]
  },
  {
   "cell_type": "markdown",
   "id": "824e78e1",
   "metadata": {},
   "source": [
    "## Uppgift 5 - Videopitch\n",
    "- Spela in dig och själv och skärmen - ex mha teams, obs eller liknande verktyg. \n",
    "- Du ska visa upp applikationen och presentera övergripande hur din kod fungerar. \n",
    "- Videon ska vara 5-10 min lång och skickas in till lärplattformen."
   ]
  },
  {
   "cell_type": "markdown",
   "id": "e60d26a4",
   "metadata": {},
   "source": [
    "## Bedömning\n",
    "- Projektet bedöms individuellt, men jobba gärna tillsammans med andra. \n",
    "- Dock kom ihåg att skriva ned vem/vilka ni jobbat tillsammans med.\n",
    "## Godkänt\n",
    "- gjort uppgifterna korrekt\n",
    "- gjort flera relevanta committs\n",
    "- kunna kommunicera med korrekt terminologi\n",
    "- kunna kommunicera sitt projekt på ett förståeligt sätt"
   ]
  }
 ],
 "metadata": {
  "language_info": {
   "name": "python"
  }
 },
 "nbformat": 4,
 "nbformat_minor": 5
}
